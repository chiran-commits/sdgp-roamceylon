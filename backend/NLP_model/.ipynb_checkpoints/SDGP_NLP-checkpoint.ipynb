{
 "cells": [
  {
   "cell_type": "code",
   "execution_count": 1,
   "id": "35c9ee64",
   "metadata": {},
   "outputs": [],
   "source": [
    "import spacy"
   ]
  },
  {
   "cell_type": "code",
   "execution_count": 2,
   "id": "aa81ef79",
   "metadata": {},
   "outputs": [],
   "source": [
    "nlp = spacy.load(\"en_core_web_lg\")"
   ]
  },
  {
   "cell_type": "code",
   "execution_count": 3,
   "id": "703b54c1",
   "metadata": {},
   "outputs": [
    {
     "name": "stderr",
     "output_type": "stream",
     "text": [
      "C:\\Users\\thina\\AppData\\Local\\Temp\\ipykernel_21920\\4018324684.py:13: UserWarning: [W008] Evaluating Doc.similarity based on empty vectors.\n",
      "  word_similarity2 = nlp(word).similarity(connectivity)\n"
     ]
    },
    {
     "name": "stdout",
     "output_type": "stream",
     "text": [
      "weather: warm\n",
      "cost of living: 100,000\n",
      "connectivity: 50mbps\n"
     ]
    },
    {
     "name": "stderr",
     "output_type": "stream",
     "text": [
      "C:\\Users\\thina\\AppData\\Local\\Temp\\ipykernel_21920\\4018324684.py:12: UserWarning: [W008] Evaluating Doc.similarity based on empty vectors.\n",
      "  word_similarity1 = nlp(word).similarity(cost_of_living) #checks the word similarity\n",
      "C:\\Users\\thina\\AppData\\Local\\Temp\\ipykernel_21920\\4018324684.py:14: UserWarning: [W008] Evaluating Doc.similarity based on empty vectors.\n",
      "  word_similarity3 = nlp(word).similarity(weather)\n"
     ]
    }
   ],
   "source": [
    "description = \"I would like the weather to be warm , where the cost of living would be around 100,000 rupees and the WIFI connectivity around 50mbps\"\n",
    "weather=\"\"\n",
    "cost_of_living=\"\"\n",
    "connectivity=\"\"\n",
    "descriptionList=[]\n",
    "descriptionList=description.split(\" \")\n",
    "cost_of_living = nlp(\"50,000\") #converts the string \"50,000\" to a NLP object\n",
    "connectivity = nlp(\"50mbps\")\n",
    "weather = nlp(\"cold tropical warm windy\")\n",
    "\n",
    "for word in descriptionList: #iterates through the array\n",
    "    word_similarity1 = nlp(word).similarity(cost_of_living) #checks the word similarity\n",
    "    word_similarity2 = nlp(word).similarity(connectivity)\n",
    "    word_similarity3 = nlp(word).similarity(weather)\n",
    "\n",
    "    if word_similarity1 > 0.8:\n",
    "        print(\"cost of living: \" + word)\n",
    "\n",
    "    if word_similarity2 > 0.8:\n",
    "        print(\"connectivity: \" + word)\n",
    "\n",
    "    if word_similarity3 > 0.8 and word != \"weather\":\n",
    "        print(\"weather: \" + word)"
   ]
  },
  {
   "cell_type": "code",
   "execution_count": null,
   "id": "c5174947",
   "metadata": {},
   "outputs": [],
   "source": []
  }
 ],
 "metadata": {
  "kernelspec": {
   "display_name": "Python 3 (ipykernel)",
   "language": "python",
   "name": "python3"
  },
  "language_info": {
   "codemirror_mode": {
    "name": "ipython",
    "version": 3
   },
   "file_extension": ".py",
   "mimetype": "text/x-python",
   "name": "python",
   "nbconvert_exporter": "python",
   "pygments_lexer": "ipython3",
   "version": "3.10.9"
  }
 },
 "nbformat": 4,
 "nbformat_minor": 5
}
