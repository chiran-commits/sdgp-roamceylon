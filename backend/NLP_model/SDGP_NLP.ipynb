{
 "cells": [
  {
   "cell_type": "code",
   "execution_count": 6,
   "id": "35c9ee64",
   "metadata": {},
   "outputs": [
    {
     "ename": "ModuleNotFoundError",
     "evalue": "No module named 'spacy'",
     "output_type": "error",
     "traceback": [
      "\u001b[0;31m---------------------------------------------------------------------------\u001b[0m",
      "\u001b[0;31mModuleNotFoundError\u001b[0m                       Traceback (most recent call last)",
      "Cell \u001b[0;32mIn[6], line 1\u001b[0m\n\u001b[0;32m----> 1\u001b[0m \u001b[38;5;28;01mimport\u001b[39;00m \u001b[38;5;21;01mspacy\u001b[39;00m\n",
      "\u001b[0;31mModuleNotFoundError\u001b[0m: No module named 'spacy'"
     ]
    }
   ],
   "source": [
    "\n",
    "import spacy\n"
   ]
  },
  {
   "cell_type": "code",
   "execution_count": null,
   "id": "aa81ef79",
   "metadata": {},
   "outputs": [
    {
     "ename": "NameError",
     "evalue": "name 'spacy' is not defined",
     "output_type": "error",
     "traceback": [
      "\u001b[0;31m---------------------------------------------------------------------------\u001b[0m",
      "\u001b[0;31mNameError\u001b[0m                                 Traceback (most recent call last)",
      "Cell \u001b[0;32mIn[1], line 1\u001b[0m\n\u001b[0;32m----> 1\u001b[0m nlp \u001b[38;5;241m=\u001b[39m \u001b[43mspacy\u001b[49m\u001b[38;5;241m.\u001b[39mload(\u001b[38;5;124m\"\u001b[39m\u001b[38;5;124men_core_web_lg\u001b[39m\u001b[38;5;124m\"\u001b[39m)\n",
      "\u001b[0;31mNameError\u001b[0m: name 'spacy' is not defined"
     ]
    }
   ],
   "source": [
    "nlp = spacy.load(\"en_core_web_lg\")"
   ]
  },
  {
   "cell_type": "code",
   "execution_count": null,
   "id": "c17d0d32",
   "metadata": {},
   "outputs": [],
   "source": []
  },
  {
   "cell_type": "code",
   "execution_count": null,
   "id": "703b54c1",
   "metadata": {},
   "outputs": [
    {
     "name": "stderr",
     "output_type": "stream",
     "text": [
      "/var/folders/3g/dvbz4hf90wq9krgzx78vfznr0000gn/T/ipykernel_30209/4018324684.py:13: UserWarning: [W008] Evaluating Doc.similarity based on empty vectors.\n",
      "  word_similarity2 = nlp(word).similarity(connectivity)\n"
     ]
    },
    {
     "name": "stdout",
     "output_type": "stream",
     "text": [
      "weather: warm\n",
      "cost of living: 100,000\n",
      "connectivity: 50mbps\n"
     ]
    },
    {
     "name": "stderr",
     "output_type": "stream",
     "text": [
      "/var/folders/3g/dvbz4hf90wq9krgzx78vfznr0000gn/T/ipykernel_30209/4018324684.py:12: UserWarning: [W008] Evaluating Doc.similarity based on empty vectors.\n",
      "  word_similarity1 = nlp(word).similarity(cost_of_living) #checks the word similarity\n",
      "/var/folders/3g/dvbz4hf90wq9krgzx78vfznr0000gn/T/ipykernel_30209/4018324684.py:14: UserWarning: [W008] Evaluating Doc.similarity based on empty vectors.\n",
      "  word_similarity3 = nlp(word).similarity(weather)\n"
     ]
    }
   ],
   "source": [
    "description = \"I would like the weather to be warm , where the cost of living would be around 100,000 rupees and the WIFI connectivity around 50mbps\"\n",
    "weather=\"\"\n",
    "cost_of_living=\"\"\n",
    "connectivity=\"\"\n",
    "descriptionList=[]\n",
    "descriptionList=description.split(\" \")\n",
    "cost_of_living = nlp(\"50,000\") #converts the string \"50,000\" to a NLP object\n",
    "connectivity = nlp(\"50mbps\")\n",
    "weather = nlp(\"cold tropical warm windy\")\n",
    "\n",
    "for word in descriptionList: #iterates through the array\n",
    "    word_similarity1 = nlp(word).similarity(cost_of_living) #checks the word similarity\n",
    "    word_similarity2 = nlp(word).similarity(connectivity)\n",
    "    word_similarity3 = nlp(word).similarity(weather)\n",
    "\n",
    "    if word_similarity1 > 0.8:\n",
    "        print(\"cost of living: \" + word)\n",
    "\n",
    "    if word_similarity2 > 0.8:\n",
    "        print(\"connectivity: \" + word)\n",
    "\n",
    "    if word_similarity3 > 0.8 and word != \"weather\":\n",
    "        print(\"weather: \" + word)"
   ]
  },
  {
   "cell_type": "code",
   "execution_count": null,
   "id": "c5174947",
   "metadata": {},
   "outputs": [],
   "source": []
  }
 ],
 "metadata": {
  "kernelspec": {
   "display_name": "Python 3 (ipykernel)",
   "language": "python",
   "name": "python3"
  },
  "language_info": {
   "codemirror_mode": {
    "name": "ipython",
    "version": 3
   },
   "file_extension": ".py",
   "mimetype": "text/x-python",
   "name": "python",
   "nbconvert_exporter": "python",
   "pygments_lexer": "ipython3",
   "version": "3.10.6"
  }
 },
 "nbformat": 4,
 "nbformat_minor": 5
}
